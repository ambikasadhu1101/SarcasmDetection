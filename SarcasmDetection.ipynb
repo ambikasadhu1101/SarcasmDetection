{
 "cells": [
  {
   "cell_type": "markdown",
   "metadata": {},
   "source": [
    "# Sarcasm Detection in News Headlines"
   ]
  },
  {
   "cell_type": "code",
   "execution_count": 1,
   "metadata": {},
   "outputs": [],
   "source": [
    "import json,random\n",
    "import pandas as pd\n",
    "import numpy as np\n",
    "import seaborn as sns\n",
    "import matplotlib.pyplot as plt\n",
    "from tensorflow.keras.preprocessing.text import Tokenizer\n",
    "from tensorflow.keras.layers import *\n",
    "from tensorflow.keras import Sequential\n",
    "from tensorflow.keras.preprocessing.sequence import pad_sequences\n",
    "from tensorflow.keras.callbacks import ModelCheckpoint,EarlyStopping"
   ]
  },
  {
   "cell_type": "markdown",
   "metadata": {},
   "source": [
    "### Reading the dataset"
   ]
  },
  {
   "cell_type": "code",
   "execution_count": 3,
   "metadata": {},
   "outputs": [],
   "source": [
    "ModelCheckpoint?"
   ]
  },
  {
   "cell_type": "code",
   "execution_count": 4,
   "metadata": {},
   "outputs": [],
   "source": [
    "with open(\"Sarcasm_Headlines_Dataset_v2.json\",encoding = 'utf8') as f:\n",
    "    text = f.readlines()"
   ]
  },
  {
   "cell_type": "code",
   "execution_count": 5,
   "metadata": {},
   "outputs": [],
   "source": [
    "headline = []\n",
    "target = []"
   ]
  },
  {
   "cell_type": "code",
   "execution_count": 6,
   "metadata": {},
   "outputs": [],
   "source": [
    "for data in text:\n",
    "    line = json.loads(data.split('\\n')[0])\n",
    "    headline.append(line['headline'])\n",
    "    target.append(line['is_sarcastic'])"
   ]
  },
  {
   "cell_type": "code",
   "execution_count": 7,
   "metadata": {},
   "outputs": [
    {
     "data": {
      "text/plain": [
       "'thirtysomething scientists unveil doomsday clock of hair loss'"
      ]
     },
     "execution_count": 7,
     "metadata": {},
     "output_type": "execute_result"
    }
   ],
   "source": [
    "headline[0]"
   ]
  },
  {
   "cell_type": "code",
   "execution_count": 8,
   "metadata": {},
   "outputs": [
    {
     "data": {
      "text/plain": [
       "1"
      ]
     },
     "execution_count": 8,
     "metadata": {},
     "output_type": "execute_result"
    }
   ],
   "source": [
    "target[0]"
   ]
  },
  {
   "cell_type": "code",
   "execution_count": 9,
   "metadata": {},
   "outputs": [
    {
     "data": {
      "text/plain": [
       "<matplotlib.axes._subplots.AxesSubplot at 0x194716d8ac0>"
      ]
     },
     "execution_count": 9,
     "metadata": {},
     "output_type": "execute_result"
    },
    {
     "data": {
      "image/png": "[encoded data removed]",
      "text/plain": [
       "<Figure size 432x288 with 1 Axes>"
      ]
     },
     "metadata": {
      "needs_background": "light"
     },
     "output_type": "display_data"
    }
   ],
   "source": [
    "sns.countplot(target)"
   ]
  },
  {
   "cell_type": "markdown",
   "metadata": {},
   "source": [
    "The dataset is balanced."
   ]
  },
  {
   "cell_type": "markdown",
   "metadata": {},
   "source": [
    "### Train-test split"
   ]
  },
  {
   "cell_type": "code",
   "execution_count": 21,
   "metadata": {},
   "outputs": [],
   "source": [
    "dataset = list(zip(headline,target))\n",
    "random.seed(10)\n",
    "random.shuffle(dataset)"
   ]
  },
  {
   "cell_type": "code",
   "execution_count": 22,
   "metadata": {},
   "outputs": [],
   "source": [
    "train = dataset[:25757]\n",
    "test  = dataset[25757:]"
   ]
  },
  {
   "cell_type": "code",
   "execution_count": 23,
   "metadata": {},
   "outputs": [],
   "source": [
    "X_train = list(zip(*train))[0]\n",
    "y_train = list(zip(*train))[1]\n",
    "X_test =list(zip(*test))[0]\n",
    "y_test = list(zip(*test))[1]"
   ]
  },
  {
   "cell_type": "code",
   "execution_count": 24,
   "metadata": {},
   "outputs": [
    {
     "data": {
      "text/plain": [
       "25757"
      ]
     },
     "execution_count": 24,
     "metadata": {},
     "output_type": "execute_result"
    }
   ],
   "source": [
    "len(X_train)"
   ]
  },
  {
   "cell_type": "code",
   "execution_count": 25,
   "metadata": {},
   "outputs": [
    {
     "data": {
      "text/plain": [
       "2862"
      ]
     },
     "execution_count": 25,
     "metadata": {},
     "output_type": "execute_result"
    }
   ],
   "source": [
    "len(X_test)"
   ]
  },
  {
   "cell_type": "markdown",
   "metadata": {},
   "source": [
    "### Text Preprocessing"
   ]
  },
  {
   "cell_type": "code",
   "execution_count": 26,
   "metadata": {},
   "outputs": [],
   "source": [
    "tokenizer = Tokenizer(lower = True, oov_token = 'unk',num_words = 10000)\n",
    "tokenizer.fit_on_texts(X_train)\n",
    "vocab = tokenizer.word_index"
   ]
  },
  {
   "cell_type": "code",
   "execution_count": 27,
   "metadata": {},
   "outputs": [],
   "source": [
    "max_len = 0\n",
    "for line in X_train:\n",
    "    max_len = max(max_len,len(line.split(' ')))"
   ]
  },
  {
   "cell_type": "code",
   "execution_count": 28,
   "metadata": {
    "scrolled": true
   },
   "outputs": [],
   "source": [
    "encoded_train = tokenizer.texts_to_sequences(X_train)\n",
    "X_train = pad_sequences(list(encoded_train), maxlen = 100,padding = 'post')"
   ]
  },
  {
   "cell_type": "code",
   "execution_count": 29,
   "metadata": {},
   "outputs": [],
   "source": [
    "encoded_test = tokenizer.texts_to_sequences(X_test)\n",
    "X_test = pad_sequences(list(encoded_test), maxlen = 100,padding = 'post')"
   ]
  },
  {
   "cell_type": "code",
   "execution_count": 30,
   "metadata": {},
   "outputs": [],
   "source": [
    "vocab_size = len(vocab)"
   ]
  },
  {
   "cell_type": "markdown",
   "metadata": {},
   "source": [
    "### Transfer Learning - Convert words to vectors using GloVe Embeddings"
   ]
  },
  {
   "cell_type": "code",
   "execution_count": 31,
   "metadata": {},
   "outputs": [],
   "source": [
    "word_vectors = {}\n",
    "with open('glove.6B.50d.txt', encoding = 'utf-8') as f:\n",
    "    for line in f.readlines():\n",
    "        emb = line.split()\n",
    "        word_vectors[emb[0]] = np.asarray(emb[1:],dtype = 'float')"
   ]
  },
  {
   "cell_type": "code",
   "execution_count": 32,
   "metadata": {},
   "outputs": [],
   "source": [
    "def get_embedding_matrix():\n",
    "    emb_dim = 50 #since we are using  50 D glove embeddings\n",
    "    matrix = np.zeros((vocab_size+1,emb_dim))\n",
    "    for word,idx in vocab.items():\n",
    "        vector = word_vectors.get(word)\n",
    "        if vector is not None:\n",
    "            matrix[idx] = vector\n",
    "    return matrix"
   ]
  },
  {
   "cell_type": "code",
   "execution_count": 33,
   "metadata": {},
   "outputs": [],
   "source": [
    "embedding_matrix = get_embedding_matrix()"
   ]
  },
  {
   "cell_type": "code",
   "execution_count": 34,
   "metadata": {},
   "outputs": [
    {
     "data": {
      "text/plain": [
       "(29369, 50)"
      ]
     },
     "execution_count": 34,
     "metadata": {},
     "output_type": "execute_result"
    }
   ],
   "source": [
    "embedding_matrix.shape"
   ]
  },
  {
   "cell_type": "markdown",
   "metadata": {},
   "source": [
    "### Model Architecture: Single LSTM"
   ]
  },
  {
   "cell_type": "code",
   "execution_count": 69,
   "metadata": {},
   "outputs": [],
   "source": [
    "model_1 = Sequential()\n",
    "model_1.add(Embedding(input_dim = vocab_size+1,output_dim = 50,mask_zero = True,input_length = 100,weights = [embedding_matrix],trainable = False))\n",
    "model_1.add(LSTM(128))\n",
    "model_1.add(Dense(1,activation = 'sigmoid'))"
   ]
  },
  {
   "cell_type": "code",
   "execution_count": 70,
   "metadata": {},
   "outputs": [],
   "source": [
    "model_1.compile(loss = 'binary_crossentropy',optimizer='adam',metrics = ['accuracy'])"
   ]
  },
  {
   "cell_type": "code",
   "execution_count": 71,
   "metadata": {},
   "outputs": [],
   "source": [
    "checkpoint_1 = ModelCheckpoint('singleLSTM.h5', monitor = 'val_accuracy',save_best_only = True)\n",
    "earlystop_1 = EarlyStopping(patience = 5,monitor = 'val_accuracy')"
   ]
  },
  {
   "cell_type": "code",
   "execution_count": 72,
   "metadata": {
    "scrolled": true
   },
   "outputs": [
    {
     "name": "stdout",
     "output_type": "stream",
     "text": [
      "Epoch 1/10\n",
      "725/725 [==============================] - 86s 119ms/step - loss: 0.5331 - accuracy: 0.7289 - val_loss: 0.4588 - val_accuracy: 0.7760\n",
      "Epoch 2/10\n",
      "725/725 [==============================] - 85s 117ms/step - loss: 0.4039 - accuracy: 0.8147 - val_loss: 0.3981 - val_accuracy: 0.8148\n",
      "Epoch 3/10\n",
      "725/725 [==============================] - 86s 119ms/step - loss: 0.3490 - accuracy: 0.8433 - val_loss: 0.3675 - val_accuracy: 0.8315\n",
      "Epoch 4/10\n",
      "725/725 [==============================] - 87s 119ms/step - loss: 0.3108 - accuracy: 0.8634 - val_loss: 0.3482 - val_accuracy: 0.8385\n",
      "Epoch 5/10\n",
      "725/725 [==============================] - 86s 118ms/step - loss: 0.2790 - accuracy: 0.8790 - val_loss: 0.3508 - val_accuracy: 0.8389\n",
      "Epoch 6/10\n",
      "725/725 [==============================] - 86s 119ms/step - loss: 0.2524 - accuracy: 0.8933 - val_loss: 0.3418 - val_accuracy: 0.8439\n",
      "Epoch 7/10\n",
      "725/725 [==============================] - 86s 119ms/step - loss: 0.2197 - accuracy: 0.9070 - val_loss: 0.3708 - val_accuracy: 0.8405\n",
      "Epoch 8/10\n",
      "725/725 [==============================] - 87s 121ms/step - loss: 0.1915 - accuracy: 0.9226 - val_loss: 0.3607 - val_accuracy: 0.8478\n",
      "Epoch 9/10\n",
      "725/725 [==============================] - 86s 118ms/step - loss: 0.1641 - accuracy: 0.9339 - val_loss: 0.4006 - val_accuracy: 0.8412\n",
      "Epoch 10/10\n",
      "725/725 [==============================] - 79s 109ms/step - loss: 0.1336 - accuracy: 0.9478 - val_loss: 0.4227 - val_accuracy: 0.8416\n"
     ]
    }
   ],
   "source": [
    "history = model_1.fit(X_train,np.array(y_train),validation_split=0.1,epochs = 10, verbose = 1, callbacks = [checkpoint_1,earlystop_1])"
   ]
  },
  {
   "cell_type": "code",
   "execution_count": 99,
   "metadata": {},
   "outputs": [
    {
     "data": {
      "image/png": "[encoded data removed]",
      "text/plain": [
       "<Figure size 432x288 with 1 Axes>"
      ]
     },
     "metadata": {
      "needs_background": "light"
     },
     "output_type": "display_data"
    }
   ],
   "source": [
    "plt.plot(history.history['accuracy'],label = \"Training Accuracy\")\n",
    "plt.plot(history.history['val_accuracy'],label = \"Validation Accuracy\")\n",
    "plt.legend()\n",
    "plt.show()"
   ]
  },
  {
   "cell_type": "markdown",
   "metadata": {},
   "source": [
    "Training Accuracy keeps on increasing while Validation accuracy is Roughly 84%. Beyond 4-5 epochs, the model starts to overfit."
   ]
  },
  {
   "cell_type": "code",
   "execution_count": 74,
   "metadata": {},
   "outputs": [],
   "source": [
    "model_1.load_weights('singleLSTM.h5')"
   ]
  },
  {
   "cell_type": "code",
   "execution_count": 75,
   "metadata": {},
   "outputs": [
    {
     "name": "stdout",
     "output_type": "stream",
     "text": [
      "90/90 [==============================] - 6s 66ms/step - loss: 0.3569 - accuracy: 0.8574\n",
      "The accuracy on test data is  85.7442319393158\n"
     ]
    }
   ],
   "source": [
    "results = model_1.evaluate(X_test,np.array(y_test))\n",
    "print(\"The accuracy on test data is \", results[1]*100)"
   ]
  },
  {
   "cell_type": "markdown",
   "metadata": {},
   "source": [
    "### Model Architecture: Single Bidirectional LSTM"
   ]
  },
  {
   "cell_type": "code",
   "execution_count": 76,
   "metadata": {},
   "outputs": [
    {
     "name": "stdout",
     "output_type": "stream",
     "text": [
      "Model: \"sequential_8\"\n",
      "_________________________________________________________________\n",
      "Layer (type)                 Output Shape              Param #   \n",
      "=================================================================\n",
      "embedding_8 (Embedding)      (None, 100, 50)           1468450   \n",
      "_________________________________________________________________\n",
      "bidirectional_1 (Bidirection (None, 256)               183296    \n",
      "_________________________________________________________________\n",
      "dense_8 (Dense)              (None, 1)                 257       \n",
      "=================================================================\n",
      "Total params: 1,652,003\n",
      "Trainable params: 183,553\n",
      "Non-trainable params: 1,468,450\n",
      "_________________________________________________________________\n"
     ]
    }
   ],
   "source": [
    "model_2 = Sequential()\n",
    "model_2.add(Embedding(input_dim = vocab_size+1,output_dim = 50,mask_zero = True,input_length = 100,weights = [embedding_matrix],trainable = False))\n",
    "model_2.add(Bidirectional(LSTM(128)))\n",
    "model_2.add(Dense(1,activation = 'sigmoid'))\n",
    "model_2.summary()"
   ]
  },
  {
   "cell_type": "code",
   "execution_count": 77,
   "metadata": {},
   "outputs": [],
   "source": [
    "model_2.compile(loss = 'binary_crossentropy',optimizer='adam',metrics = ['accuracy'])"
   ]
  },
  {
   "cell_type": "code",
   "execution_count": 79,
   "metadata": {},
   "outputs": [],
   "source": [
    "checkpoint_2 = ModelCheckpoint('biLSTM.h5', monitor = 'val_accuracy',save_best_only = True)\n",
    "earlystop_2 = EarlyStopping(patience = 5,monitor = 'val_accuracy')"
   ]
  },
  {
   "cell_type": "code",
   "execution_count": 80,
   "metadata": {},
   "outputs": [
    {
     "name": "stdout",
     "output_type": "stream",
     "text": [
      "Epoch 1/10\n",
      "725/725 [==============================] - 119s 164ms/step - loss: 0.5055 - accuracy: 0.7470 - val_loss: 0.4160 - val_accuracy: 0.8078\n",
      "Epoch 2/10\n",
      "725/725 [==============================] - 105s 144ms/step - loss: 0.3845 - accuracy: 0.8278 - val_loss: 0.3827 - val_accuracy: 0.8296\n",
      "Epoch 3/10\n",
      "725/725 [==============================] - 111s 153ms/step - loss: 0.3296 - accuracy: 0.8544 - val_loss: 0.3449 - val_accuracy: 0.8447\n",
      "Epoch 4/10\n",
      "725/725 [==============================] - 111s 153ms/step - loss: 0.2838 - accuracy: 0.8767 - val_loss: 0.3392 - val_accuracy: 0.8486\n",
      "Epoch 5/10\n",
      "725/725 [==============================] - 110s 152ms/step - loss: 0.2389 - accuracy: 0.9000 - val_loss: 0.3546 - val_accuracy: 0.8443\n",
      "Epoch 6/10\n",
      "725/725 [==============================] - 99s 137ms/step - loss: 0.1945 - accuracy: 0.9202 - val_loss: 0.3506 - val_accuracy: 0.8540\n",
      "Epoch 7/10\n",
      "725/725 [==============================] - 111s 152ms/step - loss: 0.1477 - accuracy: 0.9428 - val_loss: 0.4108 - val_accuracy: 0.8342\n",
      "Epoch 8/10\n",
      "725/725 [==============================] - 107s 148ms/step - loss: 0.1073 - accuracy: 0.9613 - val_loss: 0.4309 - val_accuracy: 0.8428\n",
      "Epoch 9/10\n",
      "725/725 [==============================] - 104s 144ms/step - loss: 0.0720 - accuracy: 0.9751 - val_loss: 0.4964 - val_accuracy: 0.8459\n",
      "Epoch 10/10\n",
      "725/725 [==============================] - 105s 145ms/step - loss: 0.0491 - accuracy: 0.9842 - val_loss: 0.5443 - val_accuracy: 0.8432\n"
     ]
    }
   ],
   "source": [
    "history_2 = model_2.fit(X_train,np.array(y_train),validation_split=0.1,epochs = 10, callbacks = [checkpoint_2,earlystop_2])"
   ]
  },
  {
   "cell_type": "code",
   "execution_count": 98,
   "metadata": {},
   "outputs": [
    {
     "data": {
      "image/png": "[encoded data removed]",
      "text/plain": [
       "<Figure size 432x288 with 1 Axes>"
      ]
     },
     "metadata": {
      "needs_background": "light"
     },
     "output_type": "display_data"
    }
   ],
   "source": [
    "plt.plot(history_2.history['accuracy'],label = \"Training Accuracy\")\n",
    "plt.plot(history_2.history['val_accuracy'],label = \"Validation Accuracy\")\n",
    "plt.legend()\n",
    "plt.show()"
   ]
  },
  {
   "cell_type": "markdown",
   "metadata": {},
   "source": [
    "Best Validation accuracy is around 85%. Training accuracy has increased to 98%."
   ]
  },
  {
   "cell_type": "code",
   "execution_count": 82,
   "metadata": {},
   "outputs": [],
   "source": [
    "model_2.load_weights('biLSTM.h5')"
   ]
  },
  {
   "cell_type": "code",
   "execution_count": 83,
   "metadata": {},
   "outputs": [
    {
     "name": "stdout",
     "output_type": "stream",
     "text": [
      "90/90 [==============================] - 7s 72ms/step - loss: 0.3643 - accuracy: 0.8473\n"
     ]
    }
   ],
   "source": [
    "results_2 = model_2.evaluate(X_test,np.array(y_test))"
   ]
  },
  {
   "cell_type": "code",
   "execution_count": 84,
   "metadata": {},
   "outputs": [
    {
     "name": "stdout",
     "output_type": "stream",
     "text": [
      "Test accuracy is  84.73095893859863\n"
     ]
    }
   ],
   "source": [
    "print(\"Test accuracy is \",results_2[1]*100)"
   ]
  },
  {
   "cell_type": "markdown",
   "metadata": {},
   "source": [
    "### Model Architecture: Stacked LSTM"
   ]
  },
  {
   "cell_type": "code",
   "execution_count": 85,
   "metadata": {},
   "outputs": [],
   "source": [
    "model_3 = Sequential()\n",
    "model_3.add(Embedding(input_dim = vocab_size+1,output_dim = 50,mask_zero = True,input_length = 100,weights = [embedding_matrix],trainable = False))\n",
    "model_3.add(LSTM(128,return_sequences = True))\n",
    "model_3.add(LSTM(128))\n",
    "model_3.add(Dense(1,activation = 'sigmoid'))"
   ]
  },
  {
   "cell_type": "code",
   "execution_count": 86,
   "metadata": {},
   "outputs": [],
   "source": [
    "model_3.compile(loss = 'binary_crossentropy',optimizer='adam',metrics = ['accuracy'])"
   ]
  },
  {
   "cell_type": "code",
   "execution_count": 87,
   "metadata": {},
   "outputs": [],
   "source": [
    "checkpoint_3 = ModelCheckpoint('stackedLSTM.h5', monitor = 'val_accuracy',save_best_only = True)\n",
    "earlystop_3 = EarlyStopping(patience = 5,monitor = 'val_accuracy')"
   ]
  },
  {
   "cell_type": "code",
   "execution_count": 88,
   "metadata": {},
   "outputs": [
    {
     "name": "stdout",
     "output_type": "stream",
     "text": [
      "Epoch 1/10\n",
      "725/725 [==============================] - 191s 263ms/step - loss: 0.5294 - accuracy: 0.7337 - val_loss: 0.4255 - val_accuracy: 0.8020\n",
      "Epoch 2/10\n",
      "725/725 [==============================] - 193s 266ms/step - loss: 0.3986 - accuracy: 0.8182 - val_loss: 0.4068 - val_accuracy: 0.8133\n",
      "Epoch 3/10\n",
      "725/725 [==============================] - 193s 266ms/step - loss: 0.3433 - accuracy: 0.8442 - val_loss: 0.3541 - val_accuracy: 0.8346\n",
      "Epoch 4/10\n",
      "725/725 [==============================] - 198s 273ms/step - loss: 0.3077 - accuracy: 0.8647 - val_loss: 0.3350 - val_accuracy: 0.8432\n",
      "Epoch 5/10\n",
      "725/725 [==============================] - 195s 268ms/step - loss: 0.2744 - accuracy: 0.8806 - val_loss: 0.3537 - val_accuracy: 0.8447\n",
      "Epoch 6/10\n",
      "725/725 [==============================] - 194s 267ms/step - loss: 0.2419 - accuracy: 0.8967 - val_loss: 0.3670 - val_accuracy: 0.8408\n",
      "Epoch 7/10\n",
      "725/725 [==============================] - 193s 266ms/step - loss: 0.2065 - accuracy: 0.9166 - val_loss: 0.3567 - val_accuracy: 0.8505\n",
      "Epoch 8/10\n",
      "725/725 [==============================] - 194s 268ms/step - loss: 0.1751 - accuracy: 0.9273 - val_loss: 0.3633 - val_accuracy: 0.8463\n",
      "Epoch 9/10\n",
      "725/725 [==============================] - 201s 277ms/step - loss: 0.1388 - accuracy: 0.9447 - val_loss: 0.4487 - val_accuracy: 0.8311\n",
      "Epoch 10/10\n",
      "725/725 [==============================] - 192s 265ms/step - loss: 0.1101 - accuracy: 0.9582 - val_loss: 0.4782 - val_accuracy: 0.8420\n"
     ]
    }
   ],
   "source": [
    "history_3 = model_3.fit(X_train,np.array(y_train),validation_split=0.1,epochs = 10,callbacks = [checkpoint_3,earlystop_3])"
   ]
  },
  {
   "cell_type": "code",
   "execution_count": 89,
   "metadata": {},
   "outputs": [
    {
     "data": {
      "image/png": "[encoded data removed]",
      "text/plain": [
       "<Figure size 432x288 with 1 Axes>"
      ]
     },
     "metadata": {
      "needs_background": "light"
     },
     "output_type": "display_data"
    }
   ],
   "source": [
    "plt.plot(history_3.history['accuracy'],label = \"Training Accuracy\")\n",
    "plt.plot(history_3.history['val_accuracy'],label = \"Validation Accuracy\")\n",
    "plt.legend()\n",
    "plt.show()"
   ]
  },
  {
   "cell_type": "code",
   "execution_count": 91,
   "metadata": {},
   "outputs": [],
   "source": [
    "model_3.load_weights('stackedLSTM.h5')"
   ]
  },
  {
   "cell_type": "code",
   "execution_count": 92,
   "metadata": {},
   "outputs": [
    {
     "name": "stdout",
     "output_type": "stream",
     "text": [
      "90/90 [==============================] - 12s 138ms/step - loss: 0.3688 - accuracy: 0.8459\n",
      "Test accuracy is  84.59119200706482\n"
     ]
    }
   ],
   "source": [
    "results_3 = model_3.evaluate(X_test,np.array(y_test))\n",
    "print(\"Test accuracy is \",results_3[1]*100)"
   ]
  },
  {
   "cell_type": "markdown",
   "metadata": {},
   "source": [
    "### Model Architecture : Stacked Bidirectional LSTM"
   ]
  },
  {
   "cell_type": "code",
   "execution_count": 93,
   "metadata": {},
   "outputs": [],
   "source": [
    "model_4 = Sequential()\n",
    "model_4.add(Embedding(input_dim = vocab_size+1,output_dim = 50,mask_zero = True,input_length = 100,weights = [embedding_matrix],trainable = False))\n",
    "model_4.add(Bidirectional(LSTM(50,return_sequences = True)))\n",
    "model_4.add(Bidirectional(LSTM(50)))\n",
    "model_4.add(Dense(1,activation = 'sigmoid'))"
   ]
  },
  {
   "cell_type": "code",
   "execution_count": 94,
   "metadata": {},
   "outputs": [],
   "source": [
    "model_4.compile(loss = 'binary_crossentropy',optimizer='adam',metrics = ['accuracy'])"
   ]
  },
  {
   "cell_type": "code",
   "execution_count": 95,
   "metadata": {},
   "outputs": [],
   "source": [
    "checkpoint_4 = ModelCheckpoint('stackedbiLSTM.h5', monitor = 'val_accuracy',save_best_only = True)\n",
    "earlystop_4 = EarlyStopping(patience = 5,monitor = 'val_accuracy')"
   ]
  },
  {
   "cell_type": "code",
   "execution_count": 96,
   "metadata": {},
   "outputs": [
    {
     "name": "stdout",
     "output_type": "stream",
     "text": [
      "Epoch 1/10\n",
      "725/725 [==============================] - 141s 195ms/step - loss: 0.5044 - accuracy: 0.7469 - val_loss: 0.4072 - val_accuracy: 0.8106\n",
      "Epoch 2/10\n",
      "725/725 [==============================] - 86s 119ms/step - loss: 0.3845 - accuracy: 0.8249 - val_loss: 0.3771 - val_accuracy: 0.8210\n",
      "Epoch 3/10\n",
      "725/725 [==============================] - 89s 123ms/step - loss: 0.3352 - accuracy: 0.8514 - val_loss: 0.3452 - val_accuracy: 0.8486\n",
      "Epoch 4/10\n",
      "725/725 [==============================] - 90s 124ms/step - loss: 0.2981 - accuracy: 0.8695 - val_loss: 0.3303 - val_accuracy: 0.8525\n",
      "Epoch 5/10\n",
      "725/725 [==============================] - 105s 145ms/step - loss: 0.2657 - accuracy: 0.8883 - val_loss: 0.3453 - val_accuracy: 0.8513\n",
      "Epoch 6/10\n",
      "725/725 [==============================] - 100s 138ms/step - loss: 0.2387 - accuracy: 0.9020 - val_loss: 0.3365 - val_accuracy: 0.8521\n",
      "Epoch 7/10\n",
      "725/725 [==============================] - 91s 125ms/step - loss: 0.2104 - accuracy: 0.9132 - val_loss: 0.3432 - val_accuracy: 0.8529\n",
      "Epoch 8/10\n",
      "725/725 [==============================] - 90s 124ms/step - loss: 0.1821 - accuracy: 0.9248 - val_loss: 0.3946 - val_accuracy: 0.8478\n",
      "Epoch 9/10\n",
      "725/725 [==============================] - 93s 128ms/step - loss: 0.1514 - accuracy: 0.9396 - val_loss: 0.3801 - val_accuracy: 0.8564\n",
      "Epoch 10/10\n",
      "725/725 [==============================] - 90s 124ms/step - loss: 0.1237 - accuracy: 0.9505 - val_loss: 0.4411 - val_accuracy: 0.8478\n"
     ]
    }
   ],
   "source": [
    "history_4 = model_4.fit(X_train,np.array(y_train),validation_split=0.1,epochs = 10, callbacks = [checkpoint_4,earlystop_4])"
   ]
  },
  {
   "cell_type": "code",
   "execution_count": 97,
   "metadata": {},
   "outputs": [
    {
     "data": {
      "image/png": "[encoded data removed]",
      "text/plain": [
       "<Figure size 432x288 with 1 Axes>"
      ]
     },
     "metadata": {
      "needs_background": "light"
     },
     "output_type": "display_data"
    }
   ],
   "source": [
    "plt.plot(history_4.history['accuracy'],label = \"Training Accuracy\")\n",
    "plt.plot(history_4.history['val_accuracy'],label = \"Validation Accuracy\")\n",
    "plt.legend()\n",
    "plt.show()"
   ]
  },
  {
   "cell_type": "code",
   "execution_count": 100,
   "metadata": {},
   "outputs": [],
   "source": [
    "model_4.load_weights('stackedbiLSTM.h5')"
   ]
  },
  {
   "cell_type": "code",
   "execution_count": 101,
   "metadata": {},
   "outputs": [
    {
     "name": "stdout",
     "output_type": "stream",
     "text": [
      "90/90 [==============================] - 2s 26ms/step - loss: 0.4132 - accuracy: 0.8459 0s - loss: 0.4037 - accu\n"
     ]
    },
    {
     "data": {
      "text/plain": [
       "[0.41323697566986084, 0.8459119200706482]"
      ]
     },
     "execution_count": 101,
     "metadata": {},
     "output_type": "execute_result"
    }
   ],
   "source": [
    "model_4.evaluate(X_test,np.array(y_test))"
   ]
  },
  {
   "cell_type": "markdown",
   "metadata": {},
   "source": [
    "### Conclusion"
   ]
  },
  {
   "cell_type": "markdown",
   "metadata": {},
   "source": [
    "More or less, the best achieved accuracy is 85%. The models tend to overfit after some epochs."
   ]
  },
  {
   "cell_type": "markdown",
   "metadata": {},
   "source": [
    "### Future Work"
   ]
  },
  {
   "cell_type": "markdown",
   "metadata": {},
   "source": [
    "- Alter the number of LSTM units.\n",
    "- Effect of Dropout.\n",
    "- Deploy a Web App using Flask."
   ]
  }
 ],
 "metadata": {
  "kernelspec": {
   "display_name": "Python 3",
   "language": "python",
   "name": "python3"
  },
  "language_info": {
   "codemirror_mode": {
    "name": "ipython",
    "version": 3
   },
   "file_extension": ".py",
   "mimetype": "text/x-python",
   "name": "python",
   "nbconvert_exporter": "python",
   "pygments_lexer": "ipython3",
   "version": "3.8.3"
  }
 },
 "nbformat": 4,
 "nbformat_minor": 4
}
